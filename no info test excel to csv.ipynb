{
 "cells": [
  {
   "cell_type": "markdown",
   "id": "7b7d5af7",
   "metadata": {},
   "source": [
    "# Code to move Excel info from one PC to another via Google Sheets  "
   ]
  },
  {
   "cell_type": "markdown",
   "id": "3300dee1",
   "metadata": {},
   "source": [
    "## Steps\n",
    "#1. import excel columns to python df (done)\n",
    "\n",
    "#2. authenticate Google sheets to allow interaction (done)\n",
    "\n",
    "#3. set up writing into specified Google sheet (done)\n",
    "\n",
    "#4. upload python df to specified Google sheet (done)\n",
    "\n",
    "#5. on desired pc, seperate code to download specified Google sheet info onto new python script df (done)"
   ]
  },
  {
   "cell_type": "markdown",
   "id": "9ddd7882",
   "metadata": {},
   "source": [
    "## Definitions\n",
    "PC1=PC with Bloomberg terminal\n",
    "\n",
    "PC2=PC wanting to receive Bloomberg info\n",
    "\n",
    "dfforupload=df with data pulled from PC1 Bloomberg xlsx file for upload to Google sheets\n",
    "\n",
    "dffordownload=df with data downloaded from the above Google sheets \n"
   ]
  },
  {
   "cell_type": "code",
   "execution_count": 1,
   "id": "cbc0a1a4",
   "metadata": {},
   "outputs": [],
   "source": [
    "#import key stuff\n",
    "import pandas as pd\n",
    "import openpyxl"
   ]
  },
  {
   "cell_type": "code",
   "execution_count": 2,
   "id": "37b1be59",
   "metadata": {},
   "outputs": [],
   "source": [
    "##WORKS\n",
    "\n",
    "##Local xlsx to csv\n",
    "#read_file = pd.read_excel (r'C:\\Users\\abela\\OneDrive\\Documents\\XQuote Capital\\Coding\\Test excel to csv\\data.xlsx')\n",
    "#read_file.to_csv (r'C:\\Users\\abela\\OneDrive\\Documents\\XQuote Capital\\Coding\\Test excel to csv\\data.csv', index = None, header=True)"
   ]
  },
  {
   "cell_type": "code",
   "execution_count": 3,
   "id": "f815d033",
   "metadata": {},
   "outputs": [
    {
     "name": "stdout",
     "output_type": "stream",
     "text": [
      "['cleaneddata.xlsx', 'data.csv', 'data.xlsx', 'fluid-unfolding-304311-3062334ba60c.json', 'Test excel to csv script-checkpoint.ipynb', 'Test excel to csv script.ipynb']\n"
     ]
    }
   ],
   "source": [
    "##WORKS\n",
    "##set project directory \n",
    "import os\n",
    "os.chdir(r'filepath to project directory')\n",
    "print(os.listdir())"
   ]
  },
  {
   "cell_type": "code",
   "execution_count": 4,
   "id": "58a8a540",
   "metadata": {},
   "outputs": [
    {
     "name": "stdout",
     "output_type": "stream",
     "text": [
      "    LWGQ      YZVA      AQMH      PKTK      TRPD      YMNE      MMYQ  \\\n",
      "0      1  0.608668  0.812945  0.303057  0.606090  0.538653  0.357637   \n",
      "1      2  0.145368  0.066240  0.590584  0.175602  0.638438  0.565244   \n",
      "2      3  0.627070  0.733575  0.910036  0.944891  0.216075  0.955075   \n",
      "3      4  0.950079  0.567410  0.119134  0.148483  0.638516  0.818929   \n",
      "4      5  0.231421  0.852686  0.259884  0.753539  0.168327  0.774767   \n",
      "5      6  0.074467  0.398648  0.650538  0.230124  0.541717  0.533967   \n",
      "6      7  0.564660  0.465810  0.234348  0.162119  0.769105  0.404044   \n",
      "7      8  0.547648  0.041033  0.994677  0.041134  0.059945  0.688634   \n",
      "8      9  0.195412  0.531933  0.898079  0.958888  0.916827  0.556247   \n",
      "9     10  0.603108  0.249350  0.715996  0.894676  0.898940  0.368208   \n",
      "10    11  0.375019  0.371288  0.994227  0.379826  0.073699  0.604281   \n",
      "11    12  0.182135  0.114691  0.987308  0.000577  0.607629  0.682829   \n",
      "12    13  0.925770  0.194406  0.408125  0.219215  0.177304  0.675826   \n",
      "13    14  0.141235  0.386781  0.092378  0.278716  0.354493  0.302244   \n",
      "14    15  0.154848  0.457852  0.755105  0.357581  0.148875  0.712460   \n",
      "15    16  0.630351  0.762368  0.322260  0.552098  0.593580  0.472647   \n",
      "16    17  0.487569  0.838407  0.261278  0.467099  0.823588  0.993874   \n",
      "17    18  0.365096  0.622136  0.593347  0.406598  0.210083  0.715350   \n",
      "18    19  0.966112  0.792824  0.120248  0.427638  0.636033  0.524070   \n",
      "19    20  0.223967  0.109216  0.200802  0.938835  0.275468  0.292056   \n",
      "20    21  0.969271  0.013208  0.106937  0.678237  0.958717  0.889242   \n",
      "21    22  0.202329  0.646287  0.299557  0.423436  0.170508  0.478897   \n",
      "22    23  0.875912  0.219243  0.196192  0.180259  0.056513  0.675851   \n",
      "23    24  0.617911  0.558290  0.975604  0.468559  0.339317  0.099900   \n",
      "24    25  0.228563  0.015628  0.073982  0.268615  0.045772  0.511011   \n",
      "25    26  0.277964  0.622419  0.048789  0.798377  0.008692  0.865198   \n",
      "26    27  0.459632  0.294757  0.898778  0.237851  0.775151  0.494833   \n",
      "27    28  0.744549  0.225817  0.972183  0.025538  0.246214  0.574528   \n",
      "28    29  0.154607  0.744111  0.004186  0.125204  0.053170  0.450339   \n",
      "\n",
      "        SRRL      TJVU      YBPP      AVJG      ZXZA      WZNP  \n",
      "0   0.142475  0.865781  0.515669  0.258051  0.693654  0.852660  \n",
      "1   0.668484  0.580658  0.821711  0.217742  0.895605  0.813736  \n",
      "2   0.580574  0.942212  0.779233  0.943836  0.975240  0.034365  \n",
      "3   0.109600  0.057408  0.709024  0.099752  0.919393  0.481745  \n",
      "4   0.204424  0.729155  0.796090  0.674124  0.507521  0.637493  \n",
      "5   0.317196  0.026886  0.897456  0.115659  0.806400  0.780023  \n",
      "6   0.328358  0.496990  0.202840  0.788742  0.845064  0.436777  \n",
      "7   0.208865  0.670400  0.638388  0.422913  0.173699  0.239633  \n",
      "8   0.415156  0.280296  0.552676  0.527828  0.474251  0.508514  \n",
      "9   0.437593  0.890090  0.536637  0.334493  0.293903  0.837593  \n",
      "10  0.327449  0.663400  0.231941  0.451216  0.713012  0.015319  \n",
      "11  0.753066  0.178956  0.308486  0.932327  0.388647  0.379670  \n",
      "12  0.163923  0.624313  0.097920  0.720061  0.042929  0.650752  \n",
      "13  0.445546  0.965784  0.749484  0.322574  0.567637  0.302166  \n",
      "14  0.574460  0.491404  0.676789  0.905523  0.436663  0.141274  \n",
      "15  0.937376  0.502999  0.898295  0.579766  0.452639  0.659504  \n",
      "16  0.658012  0.267509  0.124058  0.790703  0.700677  0.086236  \n",
      "17  0.269985  0.897648  0.299000  0.846500  0.461817  0.316773  \n",
      "18  0.295479  0.513206  0.859856  0.299907  0.224880  0.692218  \n",
      "19  0.077306  0.104205  0.310312  0.975101  0.228445  0.213554  \n",
      "20  0.535075  0.763797  0.317592  0.271443  0.346473  0.306491  \n",
      "21  0.884013  0.207052  0.547006  0.443839  0.865743  0.576890  \n",
      "22  0.962544  0.661572  0.137764  0.797553  0.231943  0.350561  \n",
      "23  0.128328  0.303685  0.701348  0.866465  0.103693  0.338407  \n",
      "24  0.283991  0.620963  0.831502  0.509778  0.584635  0.417397  \n",
      "25  0.665784  0.223136  0.572534  0.345977  0.563044  0.499199  \n",
      "26  0.964733  0.433941  0.137725  0.862017  0.731906  0.191511  \n",
      "27  0.461591  0.229152  0.389899  0.339432  0.560867  0.154543  \n",
      "28  0.081547  0.333089  0.583425  0.175199  0.679612  0.076957  \n"
     ]
    }
   ],
   "source": [
    "##import excel columns and stuff into pd df\n",
    "\n",
    "# Replace 'file.xlsx' with your file name\n",
    "#usecols need to have name of all columns you want data from in [''] or just e.g. \"A:D\"\n",
    "dfforupload = pd.read_excel(r'file path to .xlsx document', usecols=\"A:D\", skiprows=None)\n",
    "print(dfforupload)"
   ]
  },
  {
   "cell_type": "code",
   "execution_count": 5,
   "id": "a5e27862",
   "metadata": {},
   "outputs": [],
   "source": [
    "##WORKS\n",
    "##2. import Sheet authenticators \n",
    "import gspread\n",
    "import json\n",
    "from oauth2client.service_account import ServiceAccountCredentials#need to do pip install --upgrade google-auth google-auth-oauthlib google-auth-httplib2\n",
    "#then can do pip install oauth2client.service_account"
   ]
  },
  {
   "cell_type": "code",
   "execution_count": 7,
   "id": "b801bc66",
   "metadata": {},
   "outputs": [],
   "source": [
    "##WORKS\n",
    "##setting up auth using method from https://www.makeuseof.com/tag/read-write-google-sheets-python/\n",
    "\n",
    "##Define where can use \n",
    "scopes = [\n",
    "'https://www.googleapis.com/auth/spreadsheets',\n",
    "'https://www.googleapis.com/auth/drive'\n",
    "]\n",
    "\n",
    "##Get Google credentials via Google API\n",
    "#Need to make sure have shared editing privilages with your Google service account\n",
    "#access the json key you downloaded earlier\n",
    "credentials = ServiceAccountCredentials.from_json_keyfile_name(r\"filepath to json\", scopes)  \n",
    "# authenticate the JSON key with gspread\n",
    "file = gspread.authorize(credentials) \n",
    "\n",
    "##open Google Sheets \n",
    "sheet = file.open('Google spreadsheet name').worksheet('worksheet name')\n",
    "#can also use sheet = file.open(\"Google spreadsheet name\") to open sheet \n",
    "#and sheet = sheet.sheet1 #replace sheet_name with the name that corresponds to yours, e.g, it can be sheet1"
   ]
  },
  {
   "cell_type": "code",
   "execution_count": 8,
   "id": "439a5e16",
   "metadata": {
    "scrolled": true
   },
   "outputs": [
    {
     "data": {
      "text/plain": [
       "{'spreadsheetId': '14OeWaaW9Kf7HT9aQcoSdnuxJednJCjl9iF9nxsSyy-4',\n",
       " 'updatedRange': 'sheet1!A1:M30',\n",
       " 'updatedRows': 30,\n",
       " 'updatedColumns': 13,\n",
       " 'updatedCells': 390}"
      ]
     },
     "execution_count": 8,
     "metadata": {},
     "output_type": "execute_result"
    }
   ],
   "source": [
    "##WORKS \n",
    "##3.upload python df to specified Google sheet (done)\n",
    "sheet.update([dfforupload.columns.values.tolist()] + dfforupload.values.tolist())\n",
    "\n",
    "##4. edit specified Google sheet \n",
    "#update single cell = sheet.update_acell('C2', 'Red')\n",
    "#update range of cells = sheet.update('A2:B3', [[\"Not Ford\", \"Not Lancia\"], [\"Nothing\", \"Not\"]])"
   ]
  },
  {
   "cell_type": "code",
   "execution_count": 9,
   "id": "0b501038",
   "metadata": {},
   "outputs": [
    {
     "name": "stdout",
     "output_type": "stream",
     "text": [
      "  LWGQ           YZVA          AQMH          PKTK          TRPD          YMNE  \\\n",
      "0    1   0.6086683715  0.8129452442  0.3030570976   0.606090009  0.5386531346   \n",
      "2    3   0.6270698513  0.7335751217  0.9100362745  0.9448906846  0.2160749492   \n",
      "3    4   0.9500791312  0.5674100258  0.1191344895  0.1484833145  0.6385161546   \n",
      "4    5   0.2314211493  0.8526857682  0.2598839956  0.7535390915  0.1683269002   \n",
      "5    6  0.07446695309  0.3986481626  0.6505384848  0.2301241221  0.5417170614   \n",
      "\n",
      "           MMYQ          SRRL           TJVU          YBPP           AVJG  \\\n",
      "0  0.3576367993  0.1424754828     0.86578115  0.5156688356    0.258050523   \n",
      "2  0.9550751188  0.5805738706   0.9422120297   0.779233209   0.9438362264   \n",
      "3  0.8189289641  0.1095996269  0.05740837776  0.7090244933  0.09975172352   \n",
      "4  0.7747673924  0.2044243426   0.7291553706  0.7960900483   0.6741237654   \n",
      "5  0.5339671447  0.3171964712  0.02688557187  0.8974559474   0.1156591541   \n",
      "\n",
      "           ZXZA           WZNP  \n",
      "0  0.6936538071   0.8526602479  \n",
      "2  0.9752404609  0.03436487295  \n",
      "3  0.9193934696   0.4817447123  \n",
      "4  0.5075214523    0.637492561  \n",
      "5  0.8064001097   0.7800232516  \n"
     ]
    }
   ],
   "source": [
    "###WORKS \n",
    "###5. on desired pc, download specified Google sheet info onto new python script df and edit \n",
    "\n",
    "#open Google sheets file\n",
    "wks = file.open(\"Google spreadsheet name\").worksheet #aka worksheet name \n",
    "\n",
    "#get values from 'cleaneddata' Google sheets file \n",
    "data = wks.get_all_values()\n",
    "\n",
    "#decide headers \n",
    "headers = data.pop(0)\n",
    "\n",
    "#put into pandas df (to remove headers do cloumns=None)\n",
    "dffordownload = pd.DataFrame(data, columns=headers)\n",
    "\n",
    "#drop specific rows \n",
    "#dffordownload=dffordownload.drop([1])\n",
    "\n",
    "##edit specific cells \n",
    "#all_cells = sheet.range('A1:C6')\n",
    "\n",
    "print(dffordownload.head())"
   ]
  },
  {
   "cell_type": "code",
   "execution_count": 10,
   "id": "5643ba98",
   "metadata": {},
   "outputs": [
    {
     "data": {
      "text/plain": [
       "['In',\n",
       " 'Out',\n",
       " 'ServiceAccountCredentials',\n",
       " '_',\n",
       " '_8',\n",
       " '__',\n",
       " '___',\n",
       " '__builtin__',\n",
       " '__builtins__',\n",
       " '__doc__',\n",
       " '__loader__',\n",
       " '__name__',\n",
       " '__package__',\n",
       " '__spec__',\n",
       " '_dh',\n",
       " '_i',\n",
       " '_i1',\n",
       " '_i10',\n",
       " '_i2',\n",
       " '_i3',\n",
       " '_i4',\n",
       " '_i5',\n",
       " '_i6',\n",
       " '_i7',\n",
       " '_i8',\n",
       " '_i9',\n",
       " '_ih',\n",
       " '_ii',\n",
       " '_iii',\n",
       " '_oh',\n",
       " 'credentials',\n",
       " 'data',\n",
       " 'dffordownload',\n",
       " 'dfforupload',\n",
       " 'exit',\n",
       " 'file',\n",
       " 'get_ipython',\n",
       " 'gspread',\n",
       " 'headers',\n",
       " 'json',\n",
       " 'openpyxl',\n",
       " 'os',\n",
       " 'pd',\n",
       " 'quit',\n",
       " 'scopes',\n",
       " 'sheet',\n",
       " 'wks']"
      ]
     },
     "execution_count": 10,
     "metadata": {},
     "output_type": "execute_result"
    }
   ],
   "source": [
    "dir()"
   ]
  },
  {
   "cell_type": "code",
   "execution_count": null,
   "id": "03c7f647",
   "metadata": {},
   "outputs": [],
   "source": []
  }
 ],
 "metadata": {
  "kernelspec": {
   "display_name": "Python 3",
   "language": "python",
   "name": "python3"
  },
  "language_info": {
   "codemirror_mode": {
    "name": "ipython",
    "version": 3
   },
   "file_extension": ".py",
   "mimetype": "text/x-python",
   "name": "python",
   "nbconvert_exporter": "python",
   "pygments_lexer": "ipython3",
   "version": "3.8.8"
  }
 },
 "nbformat": 4,
 "nbformat_minor": 5
}
