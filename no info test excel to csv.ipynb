{
 "cells": [
  {
   "cell_type": "markdown",
   "id": "7b7d5af7",
   "metadata": {},
   "source": [
    "# Code to move Excel info from one PC to another via Google Sheets  "
   ]
  },
  {
   "cell_type": "markdown",
   "id": "3300dee1",
   "metadata": {},
   "source": [
    "## Steps\n",
    "#1. import excel columns to python df (done)\n",
    "\n",
    "#2. authenticate Google sheets to allow interaction (done)\n",
    "\n",
    "#3. set up writing into specified Google sheet (done)\n",
    "\n",
    "#4. upload python df to specified Google sheet (done)\n",
    "\n",
    "#5. on desired pc, seperate code to download specified Google sheet info onto new python script df (done)"
   ]
  },
  {
   "cell_type": "markdown",
   "id": "9ddd7882",
   "metadata": {},
   "source": [
    "## Definitions\n",
    "PC1=PC with xlsx \n",
    "\n",
    "PC2=PC wanting to recieve xlsx data \n",
    "\n",
    "dfforupload=df with data pulled from PC1 xlsx file for upload to Google sheets\n",
    "\n",
    "dffordownload=df with data downloaded from the above Google sheets \n"
   ]
  },
  {
   "cell_type": "code",
   "execution_count": null,
   "id": "cbc0a1a4",
   "metadata": {},
   "outputs": [],
   "source": [
    "#import key stuff\n",
    "import pandas as pd\n",
    "import openpyxl"
   ]
  },
  {
   "cell_type": "code",
   "execution_count": null,
   "id": "37b1be59",
   "metadata": {},
   "outputs": [],
   "source": [
    "##WORKS\n",
    "\n",
    "##Local xlsx to csv\n",
    "#read_file = pd.read_excel (r'path to xlsx document')\n",
    "#read_file.to_csv (r'path name wanting to use for csv document', index = None, header=True)"
   ]
  },
  {
   "cell_type": "code",
   "execution_count": null,
   "id": "f815d033",
   "metadata": {},
   "outputs": [],
   "source": [
    "##WORKS\n",
    "##set project directory \n",
    "import os\n",
    "os.chdir(r'filepath to project directory')\n",
    "print(os.listdir())"
   ]
  },
  {
   "cell_type": "code",
   "execution_count": null,
   "id": "58a8a540",
   "metadata": {},
   "outputs": [],
   "source": [
    "##import excel columns and stuff into pd df\n",
    "\n",
    "# Replace 'file.xlsx' with your file name\n",
    "#usecols need to have name of all columns you want data from in [''] or just e.g. \"A:D\"\n",
    "dfforupload = pd.read_excel(r'file path to .xlsx document', usecols=\"A:D\", skiprows=None)\n",
    "print(dfforupload)"
   ]
  },
  {
   "cell_type": "code",
   "execution_count": null,
   "id": "a5e27862",
   "metadata": {},
   "outputs": [],
   "source": [
    "##WORKS\n",
    "##2. import Sheet authenticators \n",
    "import gspread\n",
    "import json\n",
    "from oauth2client.service_account import ServiceAccountCredentials#need to do pip install --upgrade google-auth google-auth-oauthlib google-auth-httplib2\n",
    "#then can do pip install oauth2client.service_account"
   ]
  },
  {
   "cell_type": "code",
   "execution_count": null,
   "id": "b801bc66",
   "metadata": {},
   "outputs": [],
   "source": [
    "##WORKS\n",
    "##setting up auth using method from https://www.makeuseof.com/tag/read-write-google-sheets-python/\n",
    "\n",
    "##Define where can use \n",
    "scopes = [\n",
    "'https://www.googleapis.com/auth/spreadsheets',\n",
    "'https://www.googleapis.com/auth/drive'\n",
    "]\n",
    "\n",
    "##Get Google credentials via Google API\n",
    "#Need to make sure have shared editing privilages with your Google service account\n",
    "#access the json key you downloaded earlier\n",
    "credentials = ServiceAccountCredentials.from_json_keyfile_name(r\"filepath to json\", scopes)  \n",
    "# authenticate the JSON key with gspread\n",
    "file = gspread.authorize(credentials) \n",
    "\n",
    "##open Google Sheets \n",
    "sheet = file.open('Google spreadsheet name').worksheet('worksheet name')\n",
    "#can also use sheet = file.open(\"Google spreadsheet name\") to open sheet \n",
    "#and sheet = sheet.sheet1 #replace sheet_name with the name that corresponds to yours, e.g, it can be sheet1"
   ]
  },
  {
   "cell_type": "code",
   "execution_count": null,
   "id": "439a5e16",
   "metadata": {
    "scrolled": true
   },
   "outputs": [],
   "source": [
    "##WORKS \n",
    "##3.upload python df to specified Google sheet (done)\n",
    "sheet.update([dfforupload.columns.values.tolist()] + dfforupload.values.tolist())\n",
    "\n",
    "##4. edit specified Google sheet \n",
    "#update single cell = sheet.update_acell('C2', 'Red')\n",
    "#update range of cells = sheet.update('A2:B3', [[\"Not Ford\", \"Not Lancia\"], [\"Nothing\", \"Not\"]])"
   ]
  },
  {
   "cell_type": "code",
   "execution_count": null,
   "id": "0b501038",
   "metadata": {},
   "outputs": [],
   "source": [
    "###WORKS \n",
    "###5. on desired pc, download specified Google sheet info onto new python script df and edit \n",
    "\n",
    "#open Google sheets file\n",
    "wks = file.open(\"Google spreadsheet name\").worksheet #aka worksheet name \n",
    "\n",
    "#get values from 'cleaneddata' Google sheets file \n",
    "data = wks.get_all_values()\n",
    "\n",
    "#decide headers \n",
    "headers = data.pop(0)\n",
    "\n",
    "#put into pandas df (to remove headers do cloumns=None)\n",
    "dffordownload = pd.DataFrame(data, columns=headers)\n",
    "\n",
    "#drop specific rows \n",
    "#dffordownload=dffordownload.drop([1])\n",
    "\n",
    "##edit specific cells \n",
    "#all_cells = sheet.range('A1:C6')\n",
    "\n",
    "print(dffordownload.head())"
   ]
  },
  {
   "cell_type": "code",
   "execution_count": null,
   "id": "5643ba98",
   "metadata": {},
   "outputs": [],
   "source": [
    "dir()"
   ]
  },
  {
   "cell_type": "code",
   "execution_count": null,
   "id": "03c7f647",
   "metadata": {},
   "outputs": [],
   "source": []
  }
 ],
 "metadata": {
  "kernelspec": {
   "display_name": "Python 3",
   "language": "python",
   "name": "python3"
  },
  "language_info": {
   "codemirror_mode": {
    "name": "ipython",
    "version": 3
   },
   "file_extension": ".py",
   "mimetype": "text/x-python",
   "name": "python",
   "nbconvert_exporter": "python",
   "pygments_lexer": "ipython3",
   "version": "3.8.8"
  }
 },
 "nbformat": 4,
 "nbformat_minor": 5
}
